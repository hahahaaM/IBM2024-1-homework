{
 "cells": [
  {
   "cell_type": "markdown",
   "id": "73423240-754b-4c19-b4d1-b68acbfd72f8",
   "metadata": {},
   "source": [
    "# Data Science Notebook\n"
   ]
  },
  {
   "cell_type": "markdown",
   "id": "3839190d-5717-44f4-80db-480e7283341b",
   "metadata": {},
   "source": [
    "This notebook is part of a data science course exercise. It contains examples and explanations related to data science languages, libraries, tools, and basic programming concepts."
   ]
  },
  {
   "cell_type": "markdown",
   "id": "3bcfc22e-af5f-48e0-b2b3-f4a2450d9270",
   "metadata": {},
   "source": [
    "The most widely used programming languages for data science are:  \n",
    "1. Python  \n",
    "2. R  \n",
    "3. SQL  \n",
    "4. Julia  \n",
    "5. Java  \n",
    "6. Scala"
   ]
  },
  {
   "cell_type": "markdown",
   "id": "688f0a50-2b8b-4a1d-bcc2-8db57251f2cf",
   "metadata": {},
   "source": [
    "Data scientists use various libraries to perform data analysis, visualization, and machine learning. Here are some examples:  \n",
    "- **NumPy**: Numerical computing  \n",
    "- **Pandas**: Data manipulation  \n",
    "- **Matplotlib**: Data visualization  \n",
    "- **Scikit-learn**: Machine learning  \n",
    "- **TensorFlow**: Deep learning  \n",
    "- **PyTorch**: Neural networks  \n",
    "- **Seaborn**: Statistical data visualization  \n",
    "- **Keras**: High-level neural networks API"
   ]
  },
  {
   "cell_type": "markdown",
   "id": "6b06b8a0-6a2d-4a99-abb7-3239fb6d1d34",
   "metadata": {},
   "source": [
    "\n",
    "| Tool              | Purpose                        |  \n",
    "|-------------------|--------------------------------|  \n",
    "| Jupyter Notebook  | Write and share code and documentation |  \n",
    "| RStudio           | Develop and analyze data with R |  \n",
    "| Apache Spark      | Large-scale data processing    |  \n",
    "| Tableau           | Data visualization and dashboards |"
   ]
  },
  {
   "cell_type": "markdown",
   "id": "5aade2b5-53c4-4975-b709-cff86fb93f79",
   "metadata": {},
   "source": [
    "Arithmetic expressions allow you to perform calculations such as addition, subtraction, multiplication, and division. Below, we demonstrate these operations using Python.\n"
   ]
  },
  {
   "cell_type": "code",
   "execution_count": 11,
   "id": "ab26a4d3-a0c4-4751-9c03-5359a0b150f7",
   "metadata": {},
   "outputs": [
    {
     "name": "stdout",
     "output_type": "stream",
     "text": [
      "Multiplication result: 60\n",
      "Addition result: 16\n"
     ]
    }
   ],
   "source": [
    "multiplication_result = 10 * 6\n",
    "addition_result = 10 + 6\n",
    "\n",
    "print(f\"Multiplication result: {multiplication_result}\")\n",
    "print(f\"Addition result: {addition_result}\")\n"
   ]
  },
  {
   "cell_type": "code",
   "execution_count": 13,
   "id": "2b69206d-cd63-4893-993b-c46c21876758",
   "metadata": {},
   "outputs": [
    {
     "name": "stdout",
     "output_type": "stream",
     "text": [
      "120 minutes is equal to 2.0 hours\n"
     ]
    }
   ],
   "source": [
    "\n",
    "total_minutes = 120\n",
    "hours = total_minutes / 60\n",
    "print(f\"{total_minutes} minutes is equal to {hours} hours\")\n"
   ]
  },
  {
   "cell_type": "markdown",
   "id": "8ec2045b-a484-420e-84cc-078768ba3b5c",
   "metadata": {},
   "source": [
    "This notebook aims to:  \n",
    "1. Introduce key data science languages, libraries, and tools  \n",
    "2. Demonstrate simple programming concepts in Python  \n",
    "3. Share the notebook on GitHub for collaboration and accessibility  \n",
    "4. Provide an interactive platform to learn and practice data science\n"
   ]
  },
  {
   "cell_type": "markdown",
   "id": "70ce4e64-df6e-4f99-ac8b-ee07a92f428e",
   "metadata": {},
   "source": [
    "## Author \n",
    "**Name**: Jiahao Zhang \n",
    "\n"
   ]
  },
  {
   "cell_type": "code",
   "execution_count": null,
   "id": "3f34166e-3023-4c32-a147-d8c718cf552b",
   "metadata": {},
   "outputs": [],
   "source": []
  },
  {
   "cell_type": "code",
   "execution_count": null,
   "id": "441e83d5-d44c-42ee-b309-dfa3184cc618",
   "metadata": {},
   "outputs": [],
   "source": []
  }
 ],
 "metadata": {
  "kernelspec": {
   "display_name": "Python [conda env:base] *",
   "language": "python",
   "name": "conda-base-py"
  },
  "language_info": {
   "codemirror_mode": {
    "name": "ipython",
    "version": 3
   },
   "file_extension": ".py",
   "mimetype": "text/x-python",
   "name": "python",
   "nbconvert_exporter": "python",
   "pygments_lexer": "ipython3",
   "version": "3.12.7"
  }
 },
 "nbformat": 4,
 "nbformat_minor": 5
}
